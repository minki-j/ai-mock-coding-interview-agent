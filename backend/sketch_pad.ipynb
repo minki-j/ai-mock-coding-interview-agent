{
 "cells": [
  {
   "cell_type": "markdown",
   "metadata": {},
   "source": [
    "### For Docker container\n",
    "run this command to access its terminal\n",
    "```bash\n",
    "docker exec -it ai-mock-coding-interview-agent-fastapi-1 /bin/bash\n",
    "```"
   ]
  },
  {
   "cell_type": "code",
   "execution_count": 1,
   "metadata": {},
   "outputs": [
    {
     "name": "stdout",
     "output_type": "stream",
     "text": [
      "current directory /Users/minkijung/Documents/2PetProjects/ai-mock-coding-interview-agent/backend\n"
     ]
    },
    {
     "data": {
      "text/plain": [
       "{}"
      ]
     },
     "execution_count": 1,
     "metadata": {},
     "output_type": "execute_result"
    }
   ],
   "source": [
    "from agents.main_graph import main_graph\n",
    "id = \"6730d1cd2a80778147b21074\"\n",
    "config = {\"configurable\": {\"thread_id\": id}, \"recursion_limit\": 100}\n",
    "state = main_graph.get_state(config).values\n",
    "state"
   ]
  },
  {
   "cell_type": "code",
   "execution_count": 2,
   "metadata": {},
   "outputs": [
    {
     "data": {
      "text/plain": [
       "{}"
      ]
     },
     "execution_count": 2,
     "metadata": {},
     "output_type": "execute_result"
    }
   ],
   "source": []
  }
 ],
 "metadata": {
  "kernelspec": {
   "display_name": "interview_agent",
   "language": "python",
   "name": "python3"
  },
  "language_info": {
   "codemirror_mode": {
    "name": "ipython",
    "version": 3
   },
   "file_extension": ".py",
   "mimetype": "text/x-python",
   "name": "python",
   "nbconvert_exporter": "python",
   "pygments_lexer": "ipython3",
   "version": "3.12.4"
  }
 },
 "nbformat": 4,
 "nbformat_minor": 2
}
