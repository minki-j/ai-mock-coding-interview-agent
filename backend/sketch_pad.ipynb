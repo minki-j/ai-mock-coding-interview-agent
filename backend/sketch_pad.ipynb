{
 "cells": [
  {
   "cell_type": "markdown",
   "metadata": {},
   "source": [
    "### For Docker container\n",
    "run this command to access its terminal\n",
    "```bash\n",
    "docker exec -it ai-mock-coding-interview-agent-fastapi-1 /bin/bash\n",
    "```"
   ]
  },
  {
   "cell_type": "code",
   "execution_count": null,
   "metadata": {},
   "outputs": [],
   "source": [
    "from agents.main_graph import main_graph\n",
    "id = \"6730d1cd2a80778147b21074\"\n",
    "config = {\"configurable\": {\"thread_id\": id}, \"recursion_limit\": 100}\n",
    "state = main_graph.get_state(config).values\n",
    "state"
   ]
  },
  {
   "cell_type": "code",
   "execution_count": 5,
   "metadata": {},
   "outputs": [],
   "source": [
    "def code_to_single_line(code_string: str) -> str:\n",
    "    # Replace tabs/spaces with \\t and newlines with \\n\n",
    "    lines = code_string.split(\"\\n\")\n",
    "    # Process each line to convert leading spaces/tabs to \\t\n",
    "    processed_lines = []\n",
    "    for line in lines:\n",
    "        # Count leading spaces (assuming 4 spaces = 1 tab)\n",
    "        leading_spaces = len(line) - len(line.lstrip())\n",
    "        tab_count = leading_spaces // 4\n",
    "        # Replace the leading spaces with \\t characters\n",
    "        processed_line = \"\\t\" * tab_count + line.lstrip()\n",
    "        processed_lines.append(processed_line)\n",
    "\n",
    "    # Join with literal \\n\n",
    "    return \"\\\\n\".join(processed_lines)"
   ]
  },
  {
   "cell_type": "code",
   "execution_count": 21,
   "metadata": {},
   "outputs": [],
   "source": [
    "import json\n",
    "from markdownify import markdownify\n",
    "\n",
    "path = \"/Users/minkijung/Documents/2PetProjects/ai-mock-coding-interview-agent/backend/db/leetcode/scraped_data/longest-common-prefix.json\"\n",
    "\n",
    "with open(path, \"r\") as f:\n",
    "    data = json.load(f)\n",
    "\n",
    "solution_md = markdownify(data[\"solution\"][\"content\"])\n",
    "content_md = markdownify(data[\"content\"])\n",
    "\n",
    "data[\"solution_md\"] = solution_md\n",
    "data[\"content_md\"] = content_md\n",
    "\n",
    "with open(path, \"w\") as f:\n",
    "    json.dump(data, f, indent=4)"
   ]
  },
  {
   "cell_type": "markdown",
   "metadata": {},
   "source": [
    "1. Create a function that uses the first element of the list as a reference.\n",
    "2. Iteratively check if the first n characters of the reference are included in all other elements.\n",
    "3. Increase n until finding the longest common prefix.\n",
    "4. Add an assertion to check for empty elements in the array.\n",
    "5. Consider handling special characters as an edge case.\n",
    "6. Implement the solution and analyze time complexity during coding."
   ]
  },
  {
   "cell_type": "code",
   "execution_count": 23,
   "metadata": {},
   "outputs": [
    {
     "data": {
      "text/plain": [
       "{'interview_question': str,\n",
       " 'interview_solution': str,\n",
       " 'code_editor_state': str,\n",
       " 'debugging_record': list[str]}"
      ]
     },
     "execution_count": 23,
     "metadata": {},
     "output_type": "execute_result"
    }
   ],
   "source": [
    "from pydantic import BaseModel, Field\n",
    "class DebuggingAgentPrivateState(BaseModel):\n",
    "    interview_question: str = Field(default=\"\")\n",
    "    interview_solution: str = Field(default=\"\")\n",
    "    code_editor_state: str = Field(default=\"\")\n",
    "\n",
    "    debugging_record: list[str] = Field(default=[])\n",
    "\n",
    "state = DebuggingAgentPrivateState()\n",
    "state.__annotations__"
   ]
  },
  {
   "cell_type": "code",
   "execution_count": null,
   "metadata": {},
   "outputs": [],
   "source": []
  },
  {
   "cell_type": "code",
   "execution_count": null,
   "metadata": {},
   "outputs": [],
   "source": []
  }
 ],
 "metadata": {
  "kernelspec": {
   "display_name": "interview_agent",
   "language": "python",
   "name": "python3"
  },
  "language_info": {
   "codemirror_mode": {
    "name": "ipython",
    "version": 3
   },
   "file_extension": ".py",
   "mimetype": "text/x-python",
   "name": "python",
   "nbconvert_exporter": "python",
   "pygments_lexer": "ipython3",
   "version": "3.12.4"
  }
 },
 "nbformat": 4,
 "nbformat_minor": 2
}
