{
 "cells": [
  {
   "cell_type": "code",
   "execution_count": 3,
   "metadata": {},
   "outputs": [
    {
     "ename": "ModuleNotFoundError",
     "evalue": "No module named 'agents'",
     "output_type": "error",
     "traceback": [
      "\u001b[0;31m---------------------------------------------------------------------------\u001b[0m",
      "\u001b[0;31mModuleNotFoundError\u001b[0m                       Traceback (most recent call last)",
      "Cell \u001b[0;32mIn[3], line 1\u001b[0m\n\u001b[0;32m----> 1\u001b[0m \u001b[38;5;28;01mfrom\u001b[39;00m \u001b[38;5;21;01mbackend\u001b[39;00m\u001b[38;5;21;01m.\u001b[39;00m\u001b[38;5;21;01magents\u001b[39;00m\u001b[38;5;21;01m.\u001b[39;00m\u001b[38;5;21;01mmain_graph\u001b[39;00m \u001b[38;5;28;01mimport\u001b[39;00m main_graph\n\u001b[1;32m      2\u001b[0m \u001b[38;5;28mid\u001b[39m \u001b[38;5;241m=\u001b[39m \u001b[38;5;124m\"\u001b[39m\u001b[38;5;124m6727d61405a083670c3453fc\u001b[39m\u001b[38;5;124m\"\u001b[39m\n\u001b[1;32m      3\u001b[0m config \u001b[38;5;241m=\u001b[39m {\u001b[38;5;124m\"\u001b[39m\u001b[38;5;124mconfigurable\u001b[39m\u001b[38;5;124m\"\u001b[39m: {\u001b[38;5;124m\"\u001b[39m\u001b[38;5;124mthread_id\u001b[39m\u001b[38;5;124m\"\u001b[39m: \u001b[38;5;28mid\u001b[39m}, \u001b[38;5;124m\"\u001b[39m\u001b[38;5;124mrecursion_limit\u001b[39m\u001b[38;5;124m\"\u001b[39m: \u001b[38;5;241m100\u001b[39m}\n",
      "File \u001b[0;32m~/Documents/2PetProjects/ai-mock-coding-interview-agent/backend/agents/main_graph.py:9\u001b[0m\n\u001b[1;32m      6\u001b[0m \u001b[38;5;28;01mfrom\u001b[39;00m \u001b[38;5;21;01mlanggraph\u001b[39;00m\u001b[38;5;21;01m.\u001b[39;00m\u001b[38;5;21;01mgraph\u001b[39;00m \u001b[38;5;28;01mimport\u001b[39;00m START, END, StateGraph\n\u001b[1;32m      7\u001b[0m \u001b[38;5;28;01mfrom\u001b[39;00m \u001b[38;5;21;01mlangchain_core\u001b[39;00m\u001b[38;5;21;01m.\u001b[39;00m\u001b[38;5;21;01mrunnables\u001b[39;00m \u001b[38;5;28;01mimport\u001b[39;00m RunnablePassthrough\n\u001b[0;32m----> 9\u001b[0m \u001b[38;5;28;01mfrom\u001b[39;00m \u001b[38;5;21;01magents\u001b[39;00m\u001b[38;5;21;01m.\u001b[39;00m\u001b[38;5;21;01mstate_schema\u001b[39;00m \u001b[38;5;28;01mimport\u001b[39;00m OverallState, InputState, OutputState\n\u001b[1;32m     11\u001b[0m \u001b[38;5;28;01mfrom\u001b[39;00m \u001b[38;5;21;01magents\u001b[39;00m\u001b[38;5;21;01m.\u001b[39;00m\u001b[38;5;21;01msubgraphs\u001b[39;00m\u001b[38;5;21;01m.\u001b[39;00m\u001b[38;5;21;01mfeedback_agent\u001b[39;00m\u001b[38;5;21;01m.\u001b[39;00m\u001b[38;5;21;01mgraph\u001b[39;00m \u001b[38;5;28;01mimport\u001b[39;00m feedback_agent_graph\n\u001b[1;32m     12\u001b[0m \u001b[38;5;28;01mfrom\u001b[39;00m \u001b[38;5;21;01magents\u001b[39;00m\u001b[38;5;21;01m.\u001b[39;00m\u001b[38;5;21;01msubgraphs\u001b[39;00m\u001b[38;5;21;01m.\u001b[39;00m\u001b[38;5;21;01mthought_process\u001b[39;00m\u001b[38;5;21;01m.\u001b[39;00m\u001b[38;5;21;01mgraph\u001b[39;00m \u001b[38;5;28;01mimport\u001b[39;00m thought_process_graph\n",
      "\u001b[0;31mModuleNotFoundError\u001b[0m: No module named 'agents'"
     ]
    }
   ],
   "source": [
    "from backend.agents.main_graph import main_graph\n",
    "id = \"6727d61405a083670c3453fc\"\n",
    "config = {\"configurable\": {\"thread_id\": id}, \"recursion_limit\": 100}\n",
    "state = main_graph.get_state(config)\n",
    "state"
   ]
  },
  {
   "cell_type": "code",
   "execution_count": 13,
   "metadata": {},
   "outputs": [
    {
     "data": {
      "text/plain": [
       "{'interview_question': '',\n",
       " 'interview_solution': '',\n",
       " 'user_solution': '',\n",
       " 'message_from_interviewer': \"Welcome to the interview! I'm really glad to have you here today. I hope you're feeling good and ready to tackle some coding challenges with me.\\n\\nHere's how the interview will go: I'll present you with a Python coding question. As you work through the problem, I'd like you to think out loud and share your thought process verbally before writing any code. This will help me understand how you approach problem-solving.\\n\\nFeel free to ask any clarifying questions at any point during the interview. I'm here to help and to make sure you understand the problem correctly.\\n\\nThe interview question for today is:\\n\\nGiven a string, determine if it is a palindrome, considering only alphanumeric characters and ignoring cases.\\n\\nLet's get started! What's your initial approach to solving this problem?\",\n",
       " 'difficulty_level': 'medium',\n",
       " 'is_question_generated': False,\n",
       " 'code_editor_state': 'TESTTEST',\n",
       " 'messages': [SystemMessage(content='\\nYou are a seasoned senior software engineer interviewing candiate SWE.\\n\\nFollow these rules:\\n1. Welcome the candidate: Set a positive tone by being friendly and welcoming.\\n2. Describe the structure of the interview:\\n    - Problem-solving process: The candidate will be presented with a Python coding question.\\n    - Think out loud: Encourage the candidate to walk through their thought process verbally before writing any code.\\n3. Ask clarifying questions: Inform the candidate that they can ask clarifying questions at any point.\\n\\nThe interview question for today is:\\n{interview_question}\\n', additional_kwargs={}, response_metadata={}, id='e5593dad-3e88-46bf-873c-bc8209317e5d'),\n",
       "  AIMessage(content=\"Welcome to the interview! I'm really glad to have you here today. I hope you're feeling good and ready to tackle some coding challenges with me.\\n\\nHere's how the interview will go: I'll present you with a Python coding question. As you work through the problem, I'd like you to think out loud and share your thought process verbally before writing any code. This will help me understand how you approach problem-solving.\\n\\nFeel free to ask any clarifying questions at any point during the interview. I'm here to help and to make sure you understand the problem correctly.\\n\\nThe interview question for today is:\\n\\nGiven a string, determine if it is a palindrome, considering only alphanumeric characters and ignoring cases.\\n\\nLet's get started! What's your initial approach to solving this problem?\", additional_kwargs={'refusal': None}, response_metadata={'token_usage': {'completion_tokens': 150, 'prompt_tokens': 120, 'total_tokens': 270, 'completion_tokens_details': {'audio_tokens': None, 'reasoning_tokens': 0}, 'prompt_tokens_details': {'audio_tokens': None, 'cached_tokens': 0}}, 'model_name': 'gpt-4o-2024-08-06', 'system_fingerprint': 'fp_a7d06e42a7', 'finish_reason': 'stop', 'logprobs': None}, id='run-0b8e7d79-b33f-490e-afe8-b6cb43347e6e-0', usage_metadata={'input_tokens': 120, 'output_tokens': 150, 'total_tokens': 270})]}"
      ]
     },
     "execution_count": 13,
     "metadata": {},
     "output_type": "execute_result"
    }
   ],
   "source": [
    "state.values"
   ]
  },
  {
   "cell_type": "code",
   "execution_count": null,
   "metadata": {},
   "outputs": [],
   "source": []
  },
  {
   "cell_type": "code",
   "execution_count": null,
   "metadata": {},
   "outputs": [],
   "source": []
  }
 ],
 "metadata": {
  "kernelspec": {
   "display_name": "interview_agent",
   "language": "python",
   "name": "python3"
  },
  "language_info": {
   "codemirror_mode": {
    "name": "ipython",
    "version": 3
   },
   "file_extension": ".py",
   "mimetype": "text/x-python",
   "name": "python",
   "nbconvert_exporter": "python",
   "pygments_lexer": "ipython3",
   "version": "3.12.4"
  }
 },
 "nbformat": 4,
 "nbformat_minor": 2
}
